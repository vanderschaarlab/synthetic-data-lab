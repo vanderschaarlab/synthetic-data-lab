{
 "cells": [
  {
   "attachments": {},
   "cell_type": "markdown",
   "id": "97e2d93c",
   "metadata": {},
   "source": [
    "# Case Study 1 - Data Modality\n",
    "\n",
    "## The Task\n",
    "Get used to loading datasets with the library and generating synthetic data from them, whatever the modality of the real data.\n",
    "\n",
    "### Imports\n",
    "Lets get the imports out of the way. We import the required standard and 3rd party libraries and relevant Synthcity modules. We can also set the level of logging here, using Synthcity's bespoke logger. "
   ]
  },
  {
   "cell_type": "code",
   "execution_count": null,
   "id": "696e0157",
   "metadata": {
    "scrolled": false
   },
   "outputs": [],
   "source": [
    "# Standard\n",
    "import sys\n",
    "import warnings\n",
    "from pathlib import Path\n",
    "\n",
    "# 3rd party\n",
    "import numpy as np\n",
    "import pandas as pd\n",
    "\n",
    "# synthcity\n",
    "import synthcity.logger as log\n",
    "from synthcity.plugins import Plugins\n",
    "from synthcity.plugins.core.dataloader import (GenericDataLoader, SurvivalAnalysisDataLoader, TimeSeriesDataLoader,TimeSeriesSurvivalDataLoader)\n",
    "\n",
    "# Configure warnings and logging\n",
    "warnings.filterwarnings(\"ignore\")\n",
    "\n",
    "# Set the level for the logging\n",
    "# log.add(sink=sys.stderr, level=\"DEBUG\")\n",
    "log.remove()"
   ]
  },
  {
   "attachments": {},
   "cell_type": "markdown",
   "id": "e9ccba34",
   "metadata": {},
   "source": [
    "## Loading data of different modalities\n",
    "### Static Data\n",
    "Now  we will start with the simplest example, static tabular data. First we need to load the dataset."
   ]
  },
  {
   "cell_type": "code",
   "execution_count": null,
   "id": "660f2c8e",
   "metadata": {},
   "outputs": [],
   "source": [
    "from sklearn.datasets import load_diabetes\n",
    "\n",
    "X, y = load_diabetes(return_X_y=True, as_frame=True)\n",
    "X[\"target\"] = y\n",
    "display(X)\n"
   ]
  },
  {
   "attachments": {},
   "cell_type": "markdown",
   "id": "a7e79722",
   "metadata": {},
   "source": [
    "Then we pass it to the `GenericDataLoader` object."
   ]
  },
  {
   "cell_type": "code",
   "execution_count": null,
   "id": "51685173",
   "metadata": {},
   "outputs": [],
   "source": [
    "loader = GenericDataLoader(\n",
    "    X,\n",
    "    target_column=\"target\",\n",
    "    sensitive_columns=[\"sex\"],\n",
    ")"
   ]
  },
  {
   "attachments": {},
   "cell_type": "markdown",
   "id": "bc6fb71d",
   "metadata": {},
   "source": [
    "We can print out different methods that are compatible with our data by calling `Plugins().list()` with a relevant list passed to the categories parameter."
   ]
  },
  {
   "cell_type": "code",
   "execution_count": null,
   "id": "bb7e181c",
   "metadata": {},
   "outputs": [],
   "source": [
    "print(Plugins(categories=[\"generic\"]).list())"
   ]
  },
  {
   "attachments": {},
   "cell_type": "markdown",
   "id": "42a3735d",
   "metadata": {},
   "source": [
    "No need to worry about the code in this next block here, we will go into lots of detail in how to generate synthetic data in the case studies to come. It is here purely to demonstrate that our dataset can be used to generate synthetic data using the synthcity module."
   ]
  },
  {
   "cell_type": "code",
   "execution_count": null,
   "id": "227a53e1",
   "metadata": {},
   "outputs": [],
   "source": [
    "syn_model = Plugins().get(\"marginal_distributions\")\n",
    "syn_model.fit(loader)\n",
    "syn_model.generate(count=10).dataframe()"
   ]
  },
  {
   "attachments": {},
   "cell_type": "markdown",
   "id": "a66d521f",
   "metadata": {},
   "source": [
    "## Static survival\n",
    "Next lets look at censored data. Censoring is a form of missing data problem in which time to event is not observed for reasons such as termination of study before all recruited subjects have shown the event of interest or the subject has left the study prior to experiencing an event. Censoring is common in survival analysis. \n",
    "\n",
    "For our next example we will load a static survival dataset."
   ]
  },
  {
   "cell_type": "code",
   "execution_count": null,
   "id": "e2186c17",
   "metadata": {},
   "outputs": [],
   "source": [
    "from sksurv.datasets import load_veterans_lung_cancer\n",
    "\n",
    "data_x, data_y = load_veterans_lung_cancer()\n",
    "data_x[\"status\"], data_x[\"survival_in_days\"] = [record[0] for record in data_y], [record[1] for record in data_y]\n",
    "\n",
    "loader = SurvivalAnalysisDataLoader(\n",
    "    data_x,\n",
    "    target_column=\"status\",\n",
    "    time_to_event_column=\"survival_in_days\",\n",
    ")\n",
    "print(loader.info())\n",
    "\n",
    "syn_model = Plugins().get(\"marginal_distributions\", n_iter=1)\n",
    "syn_model.fit(loader)\n",
    "syn_model.generate(count=10)\n",
    "display(syn_model.generate(count=10).dataframe())\n"
   ]
  },
  {
   "attachments": {},
   "cell_type": "markdown",
   "id": "123aec05",
   "metadata": {},
   "source": [
    "### Regular Time Series\n",
    "\n",
    "In this next example we will load up a simple regular time series dataset and show that it is compatible with Synthcity. The temporal data must be passed to the loader as a list of dataframes, where each dataframe in the list refers to a different record and contains all time points for the record. So, there is a small amount of pre-processing to get our data into the right shape. As the time series in regular we can simply pass a sequential list for each record."
   ]
  },
  {
   "cell_type": "code",
   "execution_count": null,
   "id": "ee6cb4f4",
   "metadata": {},
   "outputs": [],
   "source": [
    "from sktime.datasets import load_basic_motions\n",
    "\n",
    "X, y = load_basic_motions(\n",
    "    split=\"TRAIN\", return_X_y=True, return_type=\"pd-multiindex\"\n",
    ")\n",
    "num_instances = len(set((x[0] for x in X.index)))\n",
    "num_time_steps = len(set((x[1] for x in X.index)))\n",
    "\n",
    "temporal_data = [X.loc[i] for i in range(num_instances)]\n",
    "y = df = pd.DataFrame(y, columns=[\"label\"])\n",
    "observation_times = [range(num_time_steps) for i in range(num_instances)]\n",
    "\n",
    "loader = TimeSeriesDataLoader(\n",
    "    temporal_data=temporal_data,\n",
    "    observation_times=observation_times,\n",
    "    outcome=y,\n",
    ")\n",
    "\n",
    "print(loader.info())\n",
    "\n",
    "syn_model = Plugins().get(\"marginal_distributions\", n_iter=1)\n",
    "syn_model.fit(loader)\n",
    "syn_model.generate(count=10)\n",
    "display(syn_model.generate(count=10).dataframe())\n"
   ]
  },
  {
   "attachments": {},
   "cell_type": "markdown",
   "id": "46472820",
   "metadata": {},
   "source": [
    "### Irregular Time Series\n",
    "\n",
    "Now lets load a time series dataset and show that that is also compatible with Synthcity."
   ]
  },
  {
   "cell_type": "code",
   "execution_count": null,
   "id": "98b0f2c1",
   "metadata": {},
   "outputs": [],
   "source": [
    "import numpy as np\n",
    "from synthcity.utils.datasets.time_series.google_stocks import GoogleStocksDataloader\n",
    "\n",
    "static_data, temporal_data, horizons, outcome = GoogleStocksDataloader().load()\n",
    "\n",
    "loader = TimeSeriesDataLoader(\n",
    "    temporal_data=temporal_data,\n",
    "    observation_times=horizons,\n",
    "    static_data=static_data,\n",
    "    outcome=outcome,\n",
    ")\n",
    "print(loader.info())\n",
    "display(loader.dataframe())\n",
    "\n",
    "syn_model = Plugins().get(\"marginal_distributions\", n_iter=1)\n",
    "syn_model.fit(loader)\n",
    "syn_model.generate(count=10)\n",
    "display(syn_model.generate(count=10).dataframe())"
   ]
  },
  {
   "attachments": {},
   "cell_type": "markdown",
   "id": "64c84cd6",
   "metadata": {},
   "source": [
    "### Composite Irregular Time Series Survival Analysis\n",
    "\n",
    "In this final example we will look at composite data while adding all the other more complex formats we have looked at so far. This next dataset is a composite irregular time series survival analysis dataset. Even complex datasets such as this are compatible with Synthcity. We can load this data using the `TimeSeriesSurvivalDataLoader`. Then by calling `loader.info()`, we can check the information about the dataset. It contains both one static feature (\"sex\") and 14 temporal features, making it a composite dataset. The `seq_time_id` field shows the irregular time sampling, which we create by passing the values to the `observation_times` parameter of the `TimeSeriesSurvivalDataLoader` object. And finally, we are formulating this data as a survival analysis problem, which is indicated by the presence of a `time_to_event` field."
   ]
  },
  {
   "cell_type": "code",
   "execution_count": null,
   "id": "2ee82484",
   "metadata": {},
   "outputs": [],
   "source": [
    "import numpy as np\n",
    "from synthcity.utils.datasets.time_series.pbc import PBCDataloader\n",
    "\n",
    "(\n",
    "    static_surv,\n",
    "    temporal_surv,\n",
    "    temporal_surv_horizons,\n",
    "    outcome_surv,\n",
    ") = PBCDataloader().load()\n",
    "T, E = outcome_surv\n",
    "\n",
    "horizons = [0.25, 0.5, 0.75]\n",
    "time_horizons = np.quantile(T, horizons).tolist()\n",
    "\n",
    "loader = TimeSeriesSurvivalDataLoader(\n",
    "    temporal_data=temporal_surv,\n",
    "    observation_times=temporal_surv_horizons,\n",
    "    static_data=static_surv,\n",
    "    T=T,\n",
    "    E=E,\n",
    "    time_horizons=time_horizons,\n",
    ")\n",
    "\n",
    "print(loader.info())\n",
    "\n",
    "syn_model = Plugins().get(\"marginal_distributions\", n_iter=1)\n",
    "syn_model.fit(loader)\n",
    "syn_model.generate(count=10)\n",
    "display(syn_model.generate(count=10).dataframe())"
   ]
  },
  {
   "attachments": {},
   "cell_type": "markdown",
   "id": "229d9fbe",
   "metadata": {},
   "source": [
    "### Create synthetic datasets\n",
    " - Above we have generated data with the debugging method `\"marginal_distributions\"`. Now, using `Plugins().list()` or the documentation find another method that is compatible with some of the datasets to see if you can generate your own snthetic data."
   ]
  }
 ],
 "metadata": {
  "kernelspec": {
   "display_name": "synth-lab",
   "language": "python",
   "name": "python3"
  },
  "language_info": {
   "codemirror_mode": {
    "name": "ipython",
    "version": 3
   },
   "file_extension": ".py",
   "mimetype": "text/x-python",
   "name": "python",
   "nbconvert_exporter": "python",
   "pygments_lexer": "ipython3",
   "version": "3.9.15"
  },
  "vscode": {
   "interpreter": {
    "hash": "8b1180d7559eadeaa51f0c23b115f584a6e0cc67e9bc1d662a0e6b39392000a4"
   }
  }
 },
 "nbformat": 4,
 "nbformat_minor": 5
}
